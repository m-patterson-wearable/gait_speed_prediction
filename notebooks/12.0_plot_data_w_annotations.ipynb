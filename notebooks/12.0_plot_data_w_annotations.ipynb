{
 "cells": [
  {
   "cell_type": "code",
   "execution_count": 1,
   "id": "e6fa7457",
   "metadata": {},
   "outputs": [
    {
     "name": "stdout",
     "output_type": "stream",
     "text": [
      "Using matplotlib backend: Qt5Agg\n"
     ]
    }
   ],
   "source": [
    "ref='nb12-' \n",
    "\n",
    "import pandas as pd\n",
    "import numpy as np\n",
    "\n",
    "%matplotlib\n",
    "import matplotlib.pyplot as plt\n",
    "import matplotlib.patches as mpatch\n",
    "import matplotlib\n",
    "plt.style.use('seaborn-whitegrid')\n",
    "matplotlib.rcParams.update({\n",
    "    'font.family': 'serif',\n",
    "    'axes.titlesize':16,\n",
    "    'axes.labelsize':16,\n",
    "    'axes.xmargin':0.1,\n",
    "    'axes.ymargin':0.1,\n",
    "    'legend.fontsize':16,\n",
    "    'xtick.labelsize' : 16,\n",
    "    'ytick.labelsize' : 16,\n",
    "    'lines.markersize': 10,\n",
    "    'lines.linewidth' : 2,\n",
    "    'font.size': 16\n",
    "})\n",
    "\n",
    "\n",
    "import datetime\n",
    "import copy\n",
    "import os\n"
   ]
  },
  {
   "cell_type": "code",
   "execution_count": 2,
   "id": "b80da573",
   "metadata": {},
   "outputs": [],
   "source": [
    "data=pd.read_csv(\"../data/processed/nb11-annot_gathered.csv\")"
   ]
  },
  {
   "cell_type": "code",
   "execution_count": 3,
   "id": "23e79539",
   "metadata": {},
   "outputs": [],
   "source": [
    "#Input SubjectId and RunID\n",
    "selected_subject=52.0 #shall be float\n",
    "selected_run=1.0 #shall be float\n",
    "skip=0 #0,1,2,3..etc # skipped samples (i.e. downsampling)\n",
    "n_subplots=3 #no. of subplots 1,2,3,..etc"
   ]
  },
  {
   "cell_type": "code",
   "execution_count": 4,
   "id": "84acff74",
   "metadata": {},
   "outputs": [],
   "source": [
    "# Fetch walk\n",
    "walk_data=data[data['SubjectId']==selected_subject]\n",
    "walk_data=walk_data[walk_data['RunId']==selected_run]\n",
    "walk_data.reset_index(drop=True,inplace=True)\n",
    "if skip != 0:\n",
    "    walk_data=walk_data.iloc[::skip]\n",
    "    walk_data.reset_index(drop=True,inplace=True)\n",
    "#subdata=np.array_split(data.values,n_subplots)\n"
   ]
  },
  {
   "cell_type": "code",
   "execution_count": 5,
   "id": "03058f91",
   "metadata": {},
   "outputs": [],
   "source": [
    "#Get min and max accls in walk\n",
    "min_accl=np.min(walk_data.values[:,3:6])\n",
    "max_accl=np.max(walk_data.values[:,3:6])\n",
    "#Fetch segments per walk\n",
    "segments=walk_data['Annotation']!=walk_data['Annotation'].shift()\n",
    "segments=walk_data[segments]\n",
    "seg_idx=segments.index\n",
    "segment_data=[walk_data.iloc[seg_idx[i]:seg_idx[i+1]] for i in range(len(seg_idx)-1)]\n",
    "segment_data.append(walk_data.iloc[seg_idx[-1]:]) \n",
    "annot=segments['Annotation'].values\n",
    "annot_type=segments['AnnotationType'].values\n",
    "segment_names = [i + ' - ' + j for i, j in zip(annot, annot_type)]\n",
    "#segment_names=segments['Annotation'].values\n",
    "segment_widths=[len(seg) for seg in segment_data]"
   ]
  },
  {
   "cell_type": "code",
   "execution_count": 6,
   "id": "f8877d37",
   "metadata": {},
   "outputs": [],
   "source": [
    "# SMK walk_data[walk_data['speed']==np.inf].index"
   ]
  },
  {
   "cell_type": "code",
   "execution_count": 7,
   "id": "e6930541",
   "metadata": {},
   "outputs": [
    {
     "name": "stdout",
     "output_type": "stream",
     "text": [
      "NVD3D10: CPU cyclestats are disabled on client virtualization \n",
      "NVD3D10: CPU cyclestats are disabled on client virtualization \n"
     ]
    }
   ],
   "source": [
    "\n",
    "walk_data=walk_data.values\n",
    "segment_rects=[]\n",
    "for i in range(len(segment_names)): #Find rectangle borders (in x-axis) for each specific annotation\n",
    "    # rect_y1=np.min(walk_data[:,3])\n",
    "    # rect_y2=np.max(walk_data[:,3])\n",
    "    rect_y1=min_accl\n",
    "    rect_y2=max_accl\n",
    "    segment_rects.append(mpatch.Rectangle((segment_data[i].index[0],rect_y1), segment_widths[i],rect_y2-rect_y1, fill=False))\n",
    "\n",
    "\n",
    "plt.rcParams[\"figure.figsize\"] = (20,14)\n",
    "fig,ax=plt.subplots()\n",
    "acc_x, =ax.plot(walk_data[:,3], label='x') #plot x (vertical)\n",
    "acc_y, =ax.plot(walk_data[:,4], label='y') #plot y\n",
    "acc_z, =ax.plot(walk_data[:,5], label='z') #plot z\n",
    "for i,rect in enumerate(segment_rects):\n",
    "    ax.add_artist(rect)\n",
    "    rx, ry = rect.get_xy()\n",
    "    cx = rx + rect.get_width()/2.0\n",
    "    cy = ry + rect.get_height()\n",
    "    ax.annotate(segment_names[i], (cx, cy), color='k', size=10, ha='center', va='center', rotation='vertical')\n",
    "\n",
    "ax.set_title('Progression in time for Subject {} and Run {} downsampled by {}'.format(selected_subject,selected_run,skip), pad=25)\n",
    "ax.set_xlabel('Time steps')\n",
    "ax.set_ylabel('Acceleration')\n",
    "\n",
    "ax2=ax.twinx()\n",
    "speed, =ax2.plot(walk_data[:,6],color='y', label='speed') #plot speed\n",
    "\n",
    "ax.legend(handles=[acc_x,acc_y,acc_z, speed])\n",
    "plt.show()\n",
    "\n"
   ]
  },
  {
   "cell_type": "code",
   "execution_count": 8,
   "id": "cb084c70",
   "metadata": {},
   "outputs": [],
   "source": [
    "\n",
    "plt.savefig(\"../reports/figures/{}-annot_{}_{}_{}.png\".format(ref,selected_subject,selected_run,skip))"
   ]
  },
  {
   "cell_type": "code",
   "execution_count": null,
   "id": "ee4eccb9",
   "metadata": {},
   "outputs": [],
   "source": []
  }
 ],
 "metadata": {
  "kernelspec": {
   "display_name": "Python 3 (ipykernel)",
   "language": "python",
   "name": "python3"
  },
  "language_info": {
   "codemirror_mode": {
    "name": "ipython",
    "version": 3
   },
   "file_extension": ".py",
   "mimetype": "text/x-python",
   "name": "python",
   "nbconvert_exporter": "python",
   "pygments_lexer": "ipython3",
   "version": "3.9.7"
  }
 },
 "nbformat": 4,
 "nbformat_minor": 5
}
