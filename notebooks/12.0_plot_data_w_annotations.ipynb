{
 "cells": [
  {
   "cell_type": "code",
   "execution_count": 1,
   "id": "e6fa7457",
   "metadata": {},
   "outputs": [
    {
     "name": "stdout",
     "output_type": "stream",
     "text": [
      "Using matplotlib backend: Qt5Agg\n"
     ]
    }
   ],
   "source": [
    "ref='nb12-' \n",
    "\n",
    "import pandas as pd\n",
    "import numpy as np\n",
    "\n",
    "%matplotlib\n",
    "import matplotlib.pyplot as plt\n",
    "import matplotlib\n",
    "plt.style.use('seaborn-whitegrid')\n",
    "matplotlib.rcParams.update({\n",
    "    'font.family': 'serif',\n",
    "    'axes.titlesize':16,\n",
    "    'axes.labelsize':16,\n",
    "    'axes.xmargin':0.1,\n",
    "    'axes.ymargin':0.1,\n",
    "    'legend.fontsize':16,\n",
    "    'xtick.labelsize' : 16,\n",
    "    'ytick.labelsize' : 16,\n",
    "    'lines.markersize': 10,\n",
    "    'lines.linewidth' : 3,\n",
    "    'font.size': 16\n",
    "})\n",
    "\n",
    "\n",
    "import datetime\n",
    "import copy\n",
    "import os\n"
   ]
  },
  {
   "cell_type": "code",
   "execution_count": 2,
   "id": "b80da573",
   "metadata": {},
   "outputs": [
    {
     "data": {
      "text/html": [
       "<div>\n",
       "<style scoped>\n",
       "    .dataframe tbody tr th:only-of-type {\n",
       "        vertical-align: middle;\n",
       "    }\n",
       "\n",
       "    .dataframe tbody tr th {\n",
       "        vertical-align: top;\n",
       "    }\n",
       "\n",
       "    .dataframe thead th {\n",
       "        text-align: right;\n",
       "    }\n",
       "</style>\n",
       "<table border=\"1\" class=\"dataframe\">\n",
       "  <thead>\n",
       "    <tr style=\"text-align: right;\">\n",
       "      <th></th>\n",
       "      <th>stamp</th>\n",
       "      <th>SubjectId</th>\n",
       "      <th>RunId</th>\n",
       "      <th>x</th>\n",
       "      <th>y</th>\n",
       "      <th>z</th>\n",
       "      <th>speed</th>\n",
       "      <th>Annotation</th>\n",
       "      <th>AnnotationType</th>\n",
       "    </tr>\n",
       "  </thead>\n",
       "  <tbody>\n",
       "    <tr>\n",
       "      <th>0</th>\n",
       "      <td>1.527700e+09</td>\n",
       "      <td>52.0</td>\n",
       "      <td>1.0</td>\n",
       "      <td>-426</td>\n",
       "      <td>-102</td>\n",
       "      <td>124</td>\n",
       "      <td>0.133031</td>\n",
       "      <td>hallway forward</td>\n",
       "      <td>Section</td>\n",
       "    </tr>\n",
       "    <tr>\n",
       "      <th>1</th>\n",
       "      <td>1.527700e+09</td>\n",
       "      <td>52.0</td>\n",
       "      <td>1.0</td>\n",
       "      <td>-413</td>\n",
       "      <td>-81</td>\n",
       "      <td>124</td>\n",
       "      <td>0.133031</td>\n",
       "      <td>hallway forward</td>\n",
       "      <td>Section</td>\n",
       "    </tr>\n",
       "    <tr>\n",
       "      <th>2</th>\n",
       "      <td>1.527700e+09</td>\n",
       "      <td>52.0</td>\n",
       "      <td>1.0</td>\n",
       "      <td>-394</td>\n",
       "      <td>-69</td>\n",
       "      <td>126</td>\n",
       "      <td>0.133031</td>\n",
       "      <td>hallway forward</td>\n",
       "      <td>Section</td>\n",
       "    </tr>\n",
       "    <tr>\n",
       "      <th>3</th>\n",
       "      <td>1.527700e+09</td>\n",
       "      <td>52.0</td>\n",
       "      <td>1.0</td>\n",
       "      <td>-367</td>\n",
       "      <td>-52</td>\n",
       "      <td>122</td>\n",
       "      <td>0.133031</td>\n",
       "      <td>hallway forward</td>\n",
       "      <td>Section</td>\n",
       "    </tr>\n",
       "    <tr>\n",
       "      <th>4</th>\n",
       "      <td>1.527700e+09</td>\n",
       "      <td>52.0</td>\n",
       "      <td>1.0</td>\n",
       "      <td>-340</td>\n",
       "      <td>-36</td>\n",
       "      <td>118</td>\n",
       "      <td>0.133031</td>\n",
       "      <td>hallway forward</td>\n",
       "      <td>Section</td>\n",
       "    </tr>\n",
       "    <tr>\n",
       "      <th>...</th>\n",
       "      <td>...</td>\n",
       "      <td>...</td>\n",
       "      <td>...</td>\n",
       "      <td>...</td>\n",
       "      <td>...</td>\n",
       "      <td>...</td>\n",
       "      <td>...</td>\n",
       "      <td>...</td>\n",
       "      <td>...</td>\n",
       "    </tr>\n",
       "    <tr>\n",
       "      <th>2172681</th>\n",
       "      <td>1.528365e+09</td>\n",
       "      <td>988.0</td>\n",
       "      <td>2.0</td>\n",
       "      <td>336</td>\n",
       "      <td>4</td>\n",
       "      <td>0</td>\n",
       "      <td>0.056256</td>\n",
       "      <td>hallway back</td>\n",
       "      <td>Section</td>\n",
       "    </tr>\n",
       "    <tr>\n",
       "      <th>2172682</th>\n",
       "      <td>1.528365e+09</td>\n",
       "      <td>988.0</td>\n",
       "      <td>2.0</td>\n",
       "      <td>332</td>\n",
       "      <td>6</td>\n",
       "      <td>2</td>\n",
       "      <td>0.056256</td>\n",
       "      <td>hallway back</td>\n",
       "      <td>Section</td>\n",
       "    </tr>\n",
       "    <tr>\n",
       "      <th>2172683</th>\n",
       "      <td>1.528365e+09</td>\n",
       "      <td>988.0</td>\n",
       "      <td>2.0</td>\n",
       "      <td>328</td>\n",
       "      <td>3</td>\n",
       "      <td>6</td>\n",
       "      <td>0.056256</td>\n",
       "      <td>hallway back</td>\n",
       "      <td>Section</td>\n",
       "    </tr>\n",
       "    <tr>\n",
       "      <th>2172684</th>\n",
       "      <td>1.528365e+09</td>\n",
       "      <td>988.0</td>\n",
       "      <td>2.0</td>\n",
       "      <td>330</td>\n",
       "      <td>6</td>\n",
       "      <td>0</td>\n",
       "      <td>0.056256</td>\n",
       "      <td>hallway back</td>\n",
       "      <td>Section</td>\n",
       "    </tr>\n",
       "    <tr>\n",
       "      <th>2172685</th>\n",
       "      <td>1.528365e+09</td>\n",
       "      <td>988.0</td>\n",
       "      <td>2.0</td>\n",
       "      <td>336</td>\n",
       "      <td>9</td>\n",
       "      <td>2</td>\n",
       "      <td>0.056256</td>\n",
       "      <td>hallway back</td>\n",
       "      <td>Section</td>\n",
       "    </tr>\n",
       "  </tbody>\n",
       "</table>\n",
       "<p>2172686 rows × 9 columns</p>\n",
       "</div>"
      ],
      "text/plain": [
       "                stamp  SubjectId  RunId    x    y    z     speed  \\\n",
       "0        1.527700e+09       52.0    1.0 -426 -102  124  0.133031   \n",
       "1        1.527700e+09       52.0    1.0 -413  -81  124  0.133031   \n",
       "2        1.527700e+09       52.0    1.0 -394  -69  126  0.133031   \n",
       "3        1.527700e+09       52.0    1.0 -367  -52  122  0.133031   \n",
       "4        1.527700e+09       52.0    1.0 -340  -36  118  0.133031   \n",
       "...               ...        ...    ...  ...  ...  ...       ...   \n",
       "2172681  1.528365e+09      988.0    2.0  336    4    0  0.056256   \n",
       "2172682  1.528365e+09      988.0    2.0  332    6    2  0.056256   \n",
       "2172683  1.528365e+09      988.0    2.0  328    3    6  0.056256   \n",
       "2172684  1.528365e+09      988.0    2.0  330    6    0  0.056256   \n",
       "2172685  1.528365e+09      988.0    2.0  336    9    2  0.056256   \n",
       "\n",
       "              Annotation AnnotationType  \n",
       "0        hallway forward        Section  \n",
       "1        hallway forward        Section  \n",
       "2        hallway forward        Section  \n",
       "3        hallway forward        Section  \n",
       "4        hallway forward        Section  \n",
       "...                  ...            ...  \n",
       "2172681     hallway back        Section  \n",
       "2172682     hallway back        Section  \n",
       "2172683     hallway back        Section  \n",
       "2172684     hallway back        Section  \n",
       "2172685     hallway back        Section  \n",
       "\n",
       "[2172686 rows x 9 columns]"
      ]
     },
     "execution_count": 2,
     "metadata": {},
     "output_type": "execute_result"
    }
   ],
   "source": [
    "data=pd.read_csv(\"../data/processed/nb11-annot_gathered.csv\")\n",
    "data"
   ]
  },
  {
   "cell_type": "code",
   "execution_count": 3,
   "id": "23e79539",
   "metadata": {},
   "outputs": [],
   "source": [
    "#Input SubjectId and RunIf\n",
    "selected_subject=52.0 #shall be float\n",
    "selected_run=1.0 #shall be float\n",
    "skip=5 #0,1,2,3..etc # skipped samples (i.e. downsampling)\n",
    "n_subplots=3 #no. of subplots 1,2,3,..etc"
   ]
  },
  {
   "cell_type": "code",
   "execution_count": 4,
   "id": "84acff74",
   "metadata": {},
   "outputs": [],
   "source": [
    "data=data[data['SubjectId']==selected_subject]\n",
    "data=data[data['RunId']==selected_run]\n",
    "if skip != 0:\n",
    "    data=data.iloc[::skip]\n",
    "subdata=np.array_split(data.values,n_subplots)\n"
   ]
  },
  {
   "cell_type": "code",
   "execution_count": 10,
   "id": "cb084c70",
   "metadata": {},
   "outputs": [],
   "source": [
    "ax={}\n",
    "annot_names={}\n",
    "rect_x1={}\n",
    "rect_x2={}\n",
    "fig,ax=plt.subplots(n_subplots)\n",
    "for i in range(n_subplots):\n",
    "    annot_names[i]=np.unique(subdata[i][:,7])\n",
    "    for j,annot in enumerate(annot_names[i]):\n",
    "        rect_x1[j]=np.argwhere(np.where(subdata[i][:,7]==annot_names[i][j],1,0))[0]\n",
    "        rect_x2[j]=np.argwhere(np.where(subdata[i][:,7]==annot_names[i][j],1,0))[-1]\n",
    "    ax[i].plot(subdata[i][:,3])\n",
    "plt.tight_layout()\n",
    "plt.show()"
   ]
  },
  {
   "cell_type": "code",
   "execution_count": 22,
   "id": "43abdcb9",
   "metadata": {},
   "outputs": [
    {
     "data": {
      "text/plain": [
       "array([1975])"
      ]
     },
     "execution_count": 22,
     "metadata": {},
     "output_type": "execute_result"
    }
   ],
   "source": [
    "rect_x1[4]"
   ]
  },
  {
   "cell_type": "code",
   "execution_count": 17,
   "id": "f72a0ec9",
   "metadata": {},
   "outputs": [
    {
     "data": {
      "text/plain": [
       "array(['hallway back'], dtype=object)"
      ]
     },
     "execution_count": 17,
     "metadata": {},
     "output_type": "execute_result"
    }
   ],
   "source": [
    "annot_names[2]"
   ]
  },
  {
   "cell_type": "code",
   "execution_count": null,
   "id": "d7cc7b6c",
   "metadata": {},
   "outputs": [],
   "source": [
    "annot_names[0]"
   ]
  },
  {
   "cell_type": "code",
   "execution_count": null,
   "id": "5b2dc74e",
   "metadata": {},
   "outputs": [],
   "source": [
    "rect_x1"
   ]
  },
  {
   "cell_type": "code",
   "execution_count": null,
   "id": "bd706d29",
   "metadata": {},
   "outputs": [],
   "source": [
    "import matplotlib.pyplot as plt\n",
    "import matplotlib.patches as mpatch\n",
    "\n",
    "fig, ax = plt.subplots()\n",
    "rectangles = {'skinny' : mpatch.Rectangle((2,2), 8, 2),\n",
    "              'square' : mpatch.Rectangle((4,6), 6, 6)}\n",
    "\n",
    "for r in rectangles:\n",
    "    ax.add_artist(rectangles[r])\n",
    "    rx, ry = rectangles[r].get_xy()\n",
    "    cx = rx + rectangles[r].get_width()/2.0\n",
    "    cy = ry + rectangles[r].get_height()/2.0\n",
    "\n",
    "    ax.annotate(r, (cx, cy), color='w', weight='bold', \n",
    "                fontsize=6, ha='center', va='center')\n",
    "\n",
    "ax.set_xlim((0, 100))\n",
    "ax.set_ylim((0, 100))\n",
    "ax.set_aspect('equal')\n",
    "plt.show()"
   ]
  },
  {
   "cell_type": "code",
   "execution_count": null,
   "id": "3c5c4259",
   "metadata": {},
   "outputs": [],
   "source": [
    "rectangles['skinny'].get_xy()"
   ]
  },
  {
   "cell_type": "code",
   "execution_count": null,
   "id": "7c964fee",
   "metadata": {},
   "outputs": [],
   "source": [
    "r"
   ]
  },
  {
   "cell_type": "code",
   "execution_count": null,
   "id": "ee4eccb9",
   "metadata": {},
   "outputs": [],
   "source": []
  }
 ],
 "metadata": {
  "kernelspec": {
   "display_name": "Python 3 (ipykernel)",
   "language": "python",
   "name": "python3"
  },
  "language_info": {
   "codemirror_mode": {
    "name": "ipython",
    "version": 3
   },
   "file_extension": ".py",
   "mimetype": "text/x-python",
   "name": "python",
   "nbconvert_exporter": "python",
   "pygments_lexer": "ipython3",
   "version": "3.9.7"
  }
 },
 "nbformat": 4,
 "nbformat_minor": 5
}
