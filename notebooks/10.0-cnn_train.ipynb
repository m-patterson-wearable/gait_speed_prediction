{
 "cells": [
  {
   "cell_type": "markdown",
   "metadata": {},
   "source": [
    "# Note: this NB is in progress!!"
   ]
  },
  {
   "cell_type": "code",
   "execution_count": 1,
   "metadata": {},
   "outputs": [],
   "source": [
    "ref='nb10-' #Note to matt\n",
    "\n",
    "import pandas as pd\n",
    "import numpy as np\n",
    "import matplotlib.pyplot as plt\n",
    "\n",
    "import matplotlib\n",
    "plt.style.use('seaborn-whitegrid')\n",
    "matplotlib.rcParams.update({\n",
    "    'font.family': 'serif',\n",
    "    'axes.titlesize':16,\n",
    "    'axes.labelsize':16,\n",
    "    'axes.xmargin':0.1,\n",
    "    'axes.ymargin':0.1,\n",
    "    'legend.fontsize':16,\n",
    "    'xtick.labelsize' : 16,\n",
    "    'ytick.labelsize' : 16,\n",
    "    'lines.markersize': 10,\n",
    "    'lines.linewidth' : 3,\n",
    "    'font.size': 16\n",
    "})\n",
    "\n",
    "\n",
    "import pickle \n",
    "import tempfile\n",
    "import os\n",
    "\n",
    "\n",
    "from sklearn.model_selection import train_test_split\n",
    "from sklearn.preprocessing import StandardScaler, MinMaxScaler \n",
    "\n",
    "import tensorflow as tf\n",
    "from tensorflow import keras\n",
    "from tensorflow.keras.models import Sequential\n",
    "from tensorflow.keras.layers import Dense, Dropout, Activation, Conv1D\n",
    "import mlflow.tensorflow\n",
    "\n",
    "RANDOM_STATE=24\n"
   ]
  },
  {
   "cell_type": "markdown",
   "metadata": {},
   "source": [
    "# Define CNN Model"
   ]
  },
  {
   "cell_type": "code",
   "execution_count": null,
   "metadata": {},
   "outputs": [],
   "source": [
    "# Fixed two convultional layers and flexible number of dense layers\n",
    "def make_cnn(run): #Functional API #Default initializer for all layers is Xavier (aka glorot_uniform)\n",
    "    inputs = keras.Input(shape=((100,3),), name='input') \n",
    "    x = Conv1D(run['filters'][0],run['kernel_size'][0], strides=run['strides'][0], activation=run['act_conv'][0])(inputs)\n",
    "    x = Conv1D(run['filters'][1],run['kernel_size'][1], strides=run['strides'][1], activation=run['act_conv'][1])(x)\n",
    "    ????\n",
    "    x = Dense(run['nodes'][0], activation=run['act'][0])(x)\n",
    "    x = Dropout(run['dropout'][0])(x)\n",
    "    for i in range(int(len(run['nodes'])-1)):\n",
    "        x = Dense(run['nodes'][i+1], activation=run['act'][i+1])(x)\n",
    "        x=Dropout(run['dropout'][i+1])(x)\n",
    "    outputs = Dense(1, activation='linear')(x)\n",
    "    model = keras.Model(inputs=inputs, outputs=outputs, name='model')\n",
    "    return model"
   ]
  },
  {
   "cell_type": "markdown",
   "metadata": {},
   "source": [
    "# Import and reshape Data"
   ]
  },
  {
   "cell_type": "code",
   "execution_count": 2,
   "metadata": {},
   "outputs": [],
   "source": [
    "def make_data(data_key):\n",
    "    if data_key=='xyz_raw':\n",
    "        data_file_path=\"../data/processed/mlp_dataset_raw_xyz.csv\"\n",
    "        dataset=pd.read_csv(data_file_path,index_col=False )\n",
    "    elif data_key=='xyz_interp':\n",
    "        data_file_path=\"../data/processed/mlp_dataset_interp_xyz.csv\"\n",
    "        dataset=pd.read_csv(data_file_path,index_col=False )  \n",
    "\n",
    "    y=dataset.iloc[:,300].values\n",
    "    X=dataset.iloc[:,0:300].values\n",
    "\n",
    "    input_x=X[:,0:100]\n",
    "    input_y=X[:,100:200]\n",
    "    input_z=X[:,200:]\n",
    "    X=np.empty([len(X),100,3])\n",
    "    X[:,:,0]=input_x\n",
    "    X[:,:,1]=input_y\n",
    "    X[:,:,2]=input_z\n",
    "\n",
    "    #Split training/testing\n",
    "    X_train, X_test, y_train, y_test = train_test_split(X, y, test_size=0.2, random_state=RANDOM_STATE)\n",
    "    return X_train, X_test,y_train, y_test, data_file_path"
   ]
  },
  {
   "cell_type": "markdown",
   "metadata": {},
   "source": [
    "# Import Hyperparameters"
   ]
  },
  {
   "cell_type": "code",
   "execution_count": null,
   "metadata": {},
   "outputs": [],
   "source": [
    "# Import Hyperparameters\n",
    "from cnn_hyperparams_10 import grid"
   ]
  },
  {
   "cell_type": "markdown",
   "metadata": {},
   "source": [
    "# Train and Test"
   ]
  },
  {
   "cell_type": "code",
   "execution_count": null,
   "metadata": {},
   "outputs": [],
   "source": [
    "mlflow.set_experiment(\"Gait Speed Prediction\")\n",
    "\n",
    "for i,run in enumerate(grid):\n",
    "    with mlflow.start_run(run_name=str(run['id'])):\n",
    "        mlflow.set_tag('Model', run['model'])\n",
    "        mlflow.set_tag('Dataset', run['dataset'])\n",
    "        mlflow.set_tag('Data splitting Random State', RANDOM_STATE)\n",
    "        X_train, X_test,y_train, y_test, data_file_path=make_data(run['dataset'])\n",
    "        mlflow.set_tag('Data File Path', data_file_path)\n",
    "        # mlflow.log_artifact(data_file_path) #Uncomment this if dataset needs ot be saved along with model\n",
    "        \n",
    "        scaler_X=run['scaler_X']\n",
    "        sX_train=scaler_X.fit_transform(X_train)\n",
    "        sX_test=scaler_X.transform(X_test)\n",
    "        with tempfile.TemporaryDirectory() as tmpdir:\n",
    "            pickle.dump(scaler_X, open(os.path.join(tmpdir,'scaler_X.pkl'), 'wb'))\n",
    "            mlflow.log_artifact(os.path.join(tmpdir,'scaler_X.pkl'))\n",
    "        mlflow.set_tag('Scaler_X', str(scaler_X.get_params()))\n",
    "        \n",
    "        scaler_y=run['scaler_y']\n",
    "        if scaler_y == 'none':\n",
    "            sy_train=y_train\n",
    "            sy_test=y_test\n",
    "            mlflow.set_tag('Scaler_y','No scale is applied to traget (i.e. speed)')\n",
    "        else:\n",
    "            sy_train=scaler_y.fit_transform(y_train.reshape(-1, 1))\n",
    "            sy_test=scaler_y.transform(y_test.reshape(-1, 1))\n",
    "            with tempfile.TemporaryDirectory() as tmpdir:\n",
    "                pickle.dump(scaler_y, open(os.path.join(tmpdir,'scaler_y.pkl'), 'wb'))\n",
    "                mlflow.log_artifact(os.path.join(tmpdir,'scaler_y.pkl'))\n",
    "            mlflow.set_tag('Scaler_X', str(scaler_y.get_params()))\n",
    "\n",
    "        model=make_mlp(sX_train.shape[1], run)\n",
    "        model.compile(loss=run['loss'] , optimizer=\"adam\", metrics=run['metrics'])\n",
    "        mlflow.tensorflow.autolog() #This will log params passed in model.fit\n",
    "        history = model.fit(sX_train,sy_train, batch_size=run['batch_size'], epochs=run['epochs'], verbose=1, validation_split=0.1)\n",
    "        # Testing\n",
    "        \n",
    "        score = model.evaluate(sX_test, sy_test,  verbose=1)\n",
    "        mlflow.log_metrics({'test_loss': score[0], 'test_RMSE': np.sqrt(score[1])})\n",
    "    "
   ]
  },
  {
   "cell_type": "code",
   "execution_count": null,
   "metadata": {},
   "outputs": [],
   "source": [
    "# #Predicting based on selected run (to be used in production)\n",
    "\n",
    "# #Retrieve Scaler\n",
    "# client = mlflow.tracking.MlflowClient() \n",
    "# local_dir = \"/tmp/artifact_downloads\" \n",
    "# if not os.path.exists(local_dir): \n",
    "# \tos.mkdir(local_dir) \n",
    "\n",
    "# local_path = client.download_artifacts('3329b6cce2fd426cad7194f9da526103', '', local_dir) \n",
    "# file = open('/tmp/artifact_downloads/scaler.pkl', 'rb')\n",
    "# scaler=pickle.load(file)\n",
    "\n",
    "# #Retrieve Model\n",
    "# logged_model = 'runs:/3329b6cce2fd426cad7194f9da526103/model'\n",
    "# # Load model as a PyFuncModel.\n",
    "# loaded_model = mlflow.pyfunc.load_model(logged_model)\n",
    "\n",
    "# #Predict \n",
    "# sX_test=scaler.transform(X_test)\n",
    "# loaded_model.predict(sX_test)"
   ]
  },
  {
   "cell_type": "code",
   "execution_count": null,
   "metadata": {},
   "outputs": [],
   "source": []
  }
 ],
 "metadata": {
  "interpreter": {
   "hash": "93e0bbc3472066dbd55e296a1d0e4e362e1f6aff5ea5fd2a3cea8bcfd0db6851"
  },
  "kernelspec": {
   "display_name": "Python 3 (ipykernel)",
   "language": "python",
   "name": "python3"
  },
  "language_info": {
   "codemirror_mode": {
    "name": "ipython",
    "version": 3
   },
   "file_extension": ".py",
   "mimetype": "text/x-python",
   "name": "python",
   "nbconvert_exporter": "python",
   "pygments_lexer": "ipython3",
   "version": "3.9.7"
  }
 },
 "nbformat": 4,
 "nbformat_minor": 2
}
