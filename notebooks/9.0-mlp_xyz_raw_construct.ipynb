{
 "cells": [
  {
   "cell_type": "code",
   "execution_count": 1,
   "metadata": {},
   "outputs": [],
   "source": [
    "ref='nb9-' \n",
    "\n",
    "import pandas as pd\n",
    "import numpy as np\n",
    "import matplotlib.pyplot as plt\n",
    "from sklearn.model_selection import train_test_split\n",
    "import tensorflow as tf\n",
    "\n",
    "import random\n",
    "\n",
    "import matplotlib\n",
    "\n",
    "plt.style.use('seaborn-whitegrid')\n",
    "matplotlib.rcParams.update({\n",
    "    'font.family': 'serif',\n",
    "    'axes.titlesize':16,\n",
    "    'axes.labelsize':16,\n",
    "    'axes.xmargin':0.1,\n",
    "    'axes.ymargin':0.1,\n",
    "    'legend.fontsize':16,\n",
    "    'xtick.labelsize' : 16,\n",
    "    'ytick.labelsize' : 16,\n",
    "    'lines.markersize': 10,\n",
    "    'lines.linewidth' : 3,\n",
    "    'font.size': 16\n",
    "})\n",
    "\n"
   ]
  },
  {
   "cell_type": "code",
   "execution_count": 2,
   "metadata": {},
   "outputs": [
    {
     "data": {
      "text/plain": [
       "23"
      ]
     },
     "execution_count": 2,
     "metadata": {},
     "output_type": "execute_result"
    }
   ],
   "source": [
    "f = open(\"../reports/{}log.txt\".format(ref), \"w\")\n",
    "f.write(\"Data Log File \\n\")\n",
    "f.write(\"===================== \\n\")"
   ]
  },
  {
   "cell_type": "markdown",
   "metadata": {},
   "source": [
    "# Importing Data"
   ]
  },
  {
   "cell_type": "code",
   "execution_count": 3,
   "metadata": {},
   "outputs": [
    {
     "data": {
      "text/html": [
       "<div>\n",
       "<style scoped>\n",
       "    .dataframe tbody tr th:only-of-type {\n",
       "        vertical-align: middle;\n",
       "    }\n",
       "\n",
       "    .dataframe tbody tr th {\n",
       "        vertical-align: top;\n",
       "    }\n",
       "\n",
       "    .dataframe thead th {\n",
       "        text-align: right;\n",
       "    }\n",
       "</style>\n",
       "<table border=\"1\" class=\"dataframe\">\n",
       "  <thead>\n",
       "    <tr style=\"text-align: right;\">\n",
       "      <th></th>\n",
       "      <th>0</th>\n",
       "      <th>1</th>\n",
       "      <th>2</th>\n",
       "      <th>3</th>\n",
       "      <th>4</th>\n",
       "      <th>5</th>\n",
       "      <th>6</th>\n",
       "      <th>7</th>\n",
       "      <th>8</th>\n",
       "      <th>9</th>\n",
       "      <th>...</th>\n",
       "      <th>293</th>\n",
       "      <th>294</th>\n",
       "      <th>295</th>\n",
       "      <th>296</th>\n",
       "      <th>297</th>\n",
       "      <th>298</th>\n",
       "      <th>299</th>\n",
       "      <th>300</th>\n",
       "      <th>301</th>\n",
       "      <th>302</th>\n",
       "    </tr>\n",
       "  </thead>\n",
       "  <tbody>\n",
       "    <tr>\n",
       "      <th>0</th>\n",
       "      <td>-426.0</td>\n",
       "      <td>-413.0</td>\n",
       "      <td>-394.0</td>\n",
       "      <td>-367.0</td>\n",
       "      <td>-340.0</td>\n",
       "      <td>-313.0</td>\n",
       "      <td>-286.0</td>\n",
       "      <td>-261.0</td>\n",
       "      <td>-235.0</td>\n",
       "      <td>-220.0</td>\n",
       "      <td>...</td>\n",
       "      <td>115.0</td>\n",
       "      <td>115.0</td>\n",
       "      <td>107.0</td>\n",
       "      <td>103.0</td>\n",
       "      <td>96.0</td>\n",
       "      <td>98.0</td>\n",
       "      <td>98.0</td>\n",
       "      <td>0.133031</td>\n",
       "      <td>1.527700e+09</td>\n",
       "      <td>52-1</td>\n",
       "    </tr>\n",
       "    <tr>\n",
       "      <th>1</th>\n",
       "      <td>-362.0</td>\n",
       "      <td>-362.0</td>\n",
       "      <td>-362.0</td>\n",
       "      <td>-352.0</td>\n",
       "      <td>-343.0</td>\n",
       "      <td>-326.0</td>\n",
       "      <td>-324.0</td>\n",
       "      <td>-310.0</td>\n",
       "      <td>-299.0</td>\n",
       "      <td>-292.0</td>\n",
       "      <td>...</td>\n",
       "      <td>77.0</td>\n",
       "      <td>75.0</td>\n",
       "      <td>71.0</td>\n",
       "      <td>64.0</td>\n",
       "      <td>53.0</td>\n",
       "      <td>45.0</td>\n",
       "      <td>43.0</td>\n",
       "      <td>0.328511</td>\n",
       "      <td>1.527700e+09</td>\n",
       "      <td>52-1</td>\n",
       "    </tr>\n",
       "    <tr>\n",
       "      <th>2</th>\n",
       "      <td>-312.0</td>\n",
       "      <td>-311.0</td>\n",
       "      <td>-307.0</td>\n",
       "      <td>-313.0</td>\n",
       "      <td>-317.0</td>\n",
       "      <td>-317.0</td>\n",
       "      <td>-320.0</td>\n",
       "      <td>-321.0</td>\n",
       "      <td>-330.0</td>\n",
       "      <td>-331.0</td>\n",
       "      <td>...</td>\n",
       "      <td>25.0</td>\n",
       "      <td>22.0</td>\n",
       "      <td>14.0</td>\n",
       "      <td>13.0</td>\n",
       "      <td>28.0</td>\n",
       "      <td>67.0</td>\n",
       "      <td>100.0</td>\n",
       "      <td>0.462072</td>\n",
       "      <td>1.527700e+09</td>\n",
       "      <td>52-1</td>\n",
       "    </tr>\n",
       "    <tr>\n",
       "      <th>3</th>\n",
       "      <td>-408.0</td>\n",
       "      <td>-420.0</td>\n",
       "      <td>-413.0</td>\n",
       "      <td>-408.0</td>\n",
       "      <td>-410.0</td>\n",
       "      <td>-425.0</td>\n",
       "      <td>-425.0</td>\n",
       "      <td>-413.0</td>\n",
       "      <td>-374.0</td>\n",
       "      <td>-343.0</td>\n",
       "      <td>...</td>\n",
       "      <td>108.0</td>\n",
       "      <td>107.0</td>\n",
       "      <td>108.0</td>\n",
       "      <td>114.0</td>\n",
       "      <td>115.0</td>\n",
       "      <td>108.0</td>\n",
       "      <td>103.0</td>\n",
       "      <td>0.516548</td>\n",
       "      <td>1.527700e+09</td>\n",
       "      <td>52-1</td>\n",
       "    </tr>\n",
       "    <tr>\n",
       "      <th>4</th>\n",
       "      <td>-343.0</td>\n",
       "      <td>-331.0</td>\n",
       "      <td>-324.0</td>\n",
       "      <td>-312.0</td>\n",
       "      <td>-306.0</td>\n",
       "      <td>-301.0</td>\n",
       "      <td>-302.0</td>\n",
       "      <td>-306.0</td>\n",
       "      <td>-312.0</td>\n",
       "      <td>-312.0</td>\n",
       "      <td>...</td>\n",
       "      <td>55.0</td>\n",
       "      <td>51.0</td>\n",
       "      <td>45.0</td>\n",
       "      <td>44.0</td>\n",
       "      <td>38.0</td>\n",
       "      <td>36.0</td>\n",
       "      <td>34.0</td>\n",
       "      <td>0.591766</td>\n",
       "      <td>1.527700e+09</td>\n",
       "      <td>52-1</td>\n",
       "    </tr>\n",
       "  </tbody>\n",
       "</table>\n",
       "<p>5 rows × 303 columns</p>\n",
       "</div>"
      ],
      "text/plain": [
       "       0      1      2      3      4      5      6      7      8      9  ...  \\\n",
       "0 -426.0 -413.0 -394.0 -367.0 -340.0 -313.0 -286.0 -261.0 -235.0 -220.0  ...   \n",
       "1 -362.0 -362.0 -362.0 -352.0 -343.0 -326.0 -324.0 -310.0 -299.0 -292.0  ...   \n",
       "2 -312.0 -311.0 -307.0 -313.0 -317.0 -317.0 -320.0 -321.0 -330.0 -331.0  ...   \n",
       "3 -408.0 -420.0 -413.0 -408.0 -410.0 -425.0 -425.0 -413.0 -374.0 -343.0  ...   \n",
       "4 -343.0 -331.0 -324.0 -312.0 -306.0 -301.0 -302.0 -306.0 -312.0 -312.0  ...   \n",
       "\n",
       "     293    294    295    296    297    298    299       300           301  \\\n",
       "0  115.0  115.0  107.0  103.0   96.0   98.0   98.0  0.133031  1.527700e+09   \n",
       "1   77.0   75.0   71.0   64.0   53.0   45.0   43.0  0.328511  1.527700e+09   \n",
       "2   25.0   22.0   14.0   13.0   28.0   67.0  100.0  0.462072  1.527700e+09   \n",
       "3  108.0  107.0  108.0  114.0  115.0  108.0  103.0  0.516548  1.527700e+09   \n",
       "4   55.0   51.0   45.0   44.0   38.0   36.0   34.0  0.591766  1.527700e+09   \n",
       "\n",
       "    302  \n",
       "0  52-1  \n",
       "1  52-1  \n",
       "2  52-1  \n",
       "3  52-1  \n",
       "4  52-1  \n",
       "\n",
       "[5 rows x 303 columns]"
      ]
     },
     "execution_count": 3,
     "metadata": {},
     "output_type": "execute_result"
    }
   ],
   "source": [
    "\n",
    "dataset=pd.read_csv(\"../data/processed/mlp_dataset_raw_xyz.csv\",index_col=False )\n",
    "dataset.head()"
   ]
  },
  {
   "cell_type": "code",
   "execution_count": 4,
   "metadata": {},
   "outputs": [],
   "source": [
    "X=dataset.iloc[:,0:300].values\n",
    "y=dataset.iloc[:,300].values\n"
   ]
  },
  {
   "cell_type": "code",
   "execution_count": 5,
   "metadata": {},
   "outputs": [],
   "source": [
    "#Split training/testing\n",
    "X_train, X_test, y_train, y_test = train_test_split(X, y, test_size=0.33, random_state=42)\n",
    "\n"
   ]
  },
  {
   "cell_type": "code",
   "execution_count": 6,
   "metadata": {},
   "outputs": [],
   "source": [
    "from tensorflow import keras\n",
    "from tensorflow.keras.models import Sequential\n",
    "from tensorflow.keras.layers import Dense, Dropout, Activation\n",
    "import mlflow.tensorflow\n"
   ]
  },
  {
   "cell_type": "code",
   "execution_count": 7,
   "metadata": {},
   "outputs": [],
   "source": [
    "mlflow.tensorflow.autolog()"
   ]
  },
  {
   "cell_type": "code",
   "execution_count": 8,
   "metadata": {},
   "outputs": [],
   "source": [
    "epochs=20\n",
    "batch_size=32"
   ]
  },
  {
   "cell_type": "code",
   "execution_count": 9,
   "metadata": {},
   "outputs": [
    {
     "data": {
      "text/plain": [
       "300"
      ]
     },
     "execution_count": 9,
     "metadata": {},
     "output_type": "execute_result"
    }
   ],
   "source": [
    "X_train.shape[1]"
   ]
  },
  {
   "cell_type": "code",
   "execution_count": 10,
   "metadata": {},
   "outputs": [
    {
     "name": "stderr",
     "output_type": "stream",
     "text": [
      "2022-01-04 20:42:36.426738: I tensorflow/stream_executor/cuda/cuda_gpu_executor.cc:925] could not open file to read NUMA node: /sys/bus/pci/devices/0000:01:00.0/numa_node\n",
      "Your kernel may have been built without NUMA support.\n",
      "2022-01-04 20:42:36.434859: W tensorflow/stream_executor/platform/default/dso_loader.cc:64] Could not load dynamic library 'libcudnn.so.8'; dlerror: libcudnn.so.8: cannot open shared object file: No such file or directory\n",
      "2022-01-04 20:42:36.434881: W tensorflow/core/common_runtime/gpu/gpu_device.cc:1850] Cannot dlopen some GPU libraries. Please make sure the missing libraries mentioned above are installed properly if you would like to use GPU. Follow the guide at https://www.tensorflow.org/install/gpu for how to download and setup the required libraries for your platform.\n",
      "Skipping registering GPU devices...\n",
      "2022-01-04 20:42:36.435765: I tensorflow/core/platform/cpu_feature_guard.cc:151] This TensorFlow binary is optimized with oneAPI Deep Neural Network Library (oneDNN) to use the following CPU instructions in performance-critical operations:  AVX2 FMA\n",
      "To enable them in other operations, rebuild TensorFlow with the appropriate compiler flags.\n"
     ]
    }
   ],
   "source": [
    "model = Sequential()\n",
    "model.add(Dense(128, input_shape=(X.shape[1],)))\n",
    "model.add(Activation(\"relu\"))\n",
    "model.add(Dense(1))\n",
    "model.add(Activation(\"linear\"))\n",
    "model.compile(loss='mean_squared_error' , optimizer=\"adam\", metrics=[\"mean_squared_error\"])"
   ]
  },
  {
   "cell_type": "code",
   "execution_count": 11,
   "metadata": {},
   "outputs": [
    {
     "name": "stderr",
     "output_type": "stream",
     "text": [
      "2022/01/04 20:42:36 INFO mlflow.utils.autologging_utils: Created MLflow autologging run with ID '15ed0cae86664ef5a119e268d785068c', which will track hyperparameters, performance metrics, model artifacts, and lineage information for the current tensorflow workflow\n"
     ]
    },
    {
     "name": "stdout",
     "output_type": "stream",
     "text": [
      "Epoch 1/20\n",
      "385/385 [==============================] - 1s 3ms/step - loss: 1757.2500 - mean_squared_error: 1757.2500 - val_loss: 548.8774 - val_mean_squared_error: 548.8774\n",
      "Epoch 2/20\n",
      "385/385 [==============================] - 1s 2ms/step - loss: 514.8456 - mean_squared_error: 514.8456 - val_loss: 343.3074 - val_mean_squared_error: 343.3074\n",
      "Epoch 3/20\n",
      "385/385 [==============================] - 1s 2ms/step - loss: 349.8147 - mean_squared_error: 349.8147 - val_loss: 1018.5965 - val_mean_squared_error: 1018.5965\n",
      "Epoch 4/20\n",
      "385/385 [==============================] - 1s 2ms/step - loss: 468.2578 - mean_squared_error: 468.2578 - val_loss: 396.3220 - val_mean_squared_error: 396.3220\n",
      "Epoch 5/20\n",
      "385/385 [==============================] - 1s 3ms/step - loss: 293.0419 - mean_squared_error: 293.0419 - val_loss: 133.4444 - val_mean_squared_error: 133.4444\n",
      "Epoch 6/20\n",
      "385/385 [==============================] - 1s 2ms/step - loss: 98.0169 - mean_squared_error: 98.0169 - val_loss: 148.8680 - val_mean_squared_error: 148.8680\n",
      "Epoch 7/20\n",
      "385/385 [==============================] - 1s 2ms/step - loss: 60.4415 - mean_squared_error: 60.4415 - val_loss: 265.6681 - val_mean_squared_error: 265.6681\n",
      "Epoch 8/20\n",
      "385/385 [==============================] - 1s 2ms/step - loss: 51.3949 - mean_squared_error: 51.3949 - val_loss: 89.3913 - val_mean_squared_error: 89.3913\n",
      "Epoch 9/20\n",
      "385/385 [==============================] - 1s 2ms/step - loss: 48.2838 - mean_squared_error: 48.2838 - val_loss: 89.8905 - val_mean_squared_error: 89.8905\n",
      "Epoch 10/20\n",
      "385/385 [==============================] - 1s 2ms/step - loss: 48.1714 - mean_squared_error: 48.1714 - val_loss: 57.7472 - val_mean_squared_error: 57.7472\n",
      "Epoch 11/20\n",
      "385/385 [==============================] - 1s 2ms/step - loss: 39.7093 - mean_squared_error: 39.7093 - val_loss: 50.7810 - val_mean_squared_error: 50.7810\n",
      "Epoch 12/20\n",
      "385/385 [==============================] - 1s 2ms/step - loss: 44.2171 - mean_squared_error: 44.2171 - val_loss: 48.5710 - val_mean_squared_error: 48.5710\n",
      "Epoch 13/20\n",
      "385/385 [==============================] - 1s 2ms/step - loss: 71.8164 - mean_squared_error: 71.8164 - val_loss: 44.0554 - val_mean_squared_error: 44.0554\n",
      "Epoch 14/20\n",
      "385/385 [==============================] - 1s 2ms/step - loss: 29.0955 - mean_squared_error: 29.0955 - val_loss: 25.1019 - val_mean_squared_error: 25.1019\n",
      "Epoch 15/20\n",
      "385/385 [==============================] - 1s 2ms/step - loss: 17.1672 - mean_squared_error: 17.1672 - val_loss: 18.1527 - val_mean_squared_error: 18.1527\n",
      "Epoch 16/20\n",
      "385/385 [==============================] - 1s 2ms/step - loss: 11.0405 - mean_squared_error: 11.0405 - val_loss: 12.9791 - val_mean_squared_error: 12.9791\n",
      "Epoch 17/20\n",
      "385/385 [==============================] - 1s 2ms/step - loss: 7.1962 - mean_squared_error: 7.1962 - val_loss: 16.9305 - val_mean_squared_error: 16.9305\n",
      "Epoch 18/20\n",
      "385/385 [==============================] - 1s 2ms/step - loss: 8.0524 - mean_squared_error: 8.0524 - val_loss: 12.9358 - val_mean_squared_error: 12.9358\n",
      "Epoch 19/20\n",
      "385/385 [==============================] - 1s 2ms/step - loss: 15.3519 - mean_squared_error: 15.3519 - val_loss: 14.9298 - val_mean_squared_error: 14.9298\n",
      "Epoch 20/20\n",
      "385/385 [==============================] - 1s 2ms/step - loss: 8.9456 - mean_squared_error: 8.9456 - val_loss: 11.1178 - val_mean_squared_error: 11.1178\n"
     ]
    },
    {
     "name": "stderr",
     "output_type": "stream",
     "text": [
      "2022-01-04 20:42:52.712535: W tensorflow/python/util/util.cc:368] Sets are not currently considered sequences, but this may change in the future, so consider avoiding using them.\n"
     ]
    },
    {
     "name": "stdout",
     "output_type": "stream",
     "text": [
      "INFO:tensorflow:Assets written to: /tmp/tmpwq0ywwh8/model/data/model/assets\n"
     ]
    }
   ],
   "source": [
    "history = model.fit(X_train,y_train, batch_size=batch_size, epochs=epochs, verbose=1, validation_split=0.1)"
   ]
  },
  {
   "cell_type": "code",
   "execution_count": 12,
   "metadata": {},
   "outputs": [
    {
     "name": "stdout",
     "output_type": "stream",
     "text": [
      "211/211 [==============================] - 0s 1ms/step - loss: 13.5574 - mean_squared_error: 13.5574\n"
     ]
    }
   ],
   "source": [
    "score = model.evaluate(X_test, y_test, batch_size=batch_size, verbose=1)"
   ]
  },
  {
   "cell_type": "code",
   "execution_count": 13,
   "metadata": {},
   "outputs": [],
   "source": [
    "f.close()"
   ]
  }
 ],
 "metadata": {
  "interpreter": {
   "hash": "93e0bbc3472066dbd55e296a1d0e4e362e1f6aff5ea5fd2a3cea8bcfd0db6851"
  },
  "kernelspec": {
   "display_name": "Python 3 (ipykernel)",
   "language": "python",
   "name": "python3"
  },
  "language_info": {
   "codemirror_mode": {
    "name": "ipython",
    "version": 3
   },
   "file_extension": ".py",
   "mimetype": "text/x-python",
   "name": "python",
   "nbconvert_exporter": "python",
   "pygments_lexer": "ipython3",
   "version": "3.9.7"
  }
 },
 "nbformat": 4,
 "nbformat_minor": 2
}
